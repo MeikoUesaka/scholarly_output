{
 "cells": [
  {
   "cell_type": "code",
   "execution_count": 1,
   "metadata": {},
   "outputs": [
    {
     "data": {
      "text/plain": [
       "136"
      ]
     },
     "execution_count": 1,
     "metadata": {},
     "output_type": "execute_result"
    }
   ],
   "source": [
    "#研究機関\"Institution_Name\"がカバーしている研究分野を，\n",
    "#ASJC（All Science Journal Classification）とQSランキングで使用されている分類（ASJCを使用）の2種の分類について調べる．\n",
    "#一つの論文が複数のASJCに対応づけられていることもあるので，\"; \"区切りで入力されていたASJC列をユニークにして取り出し配列を作る\n",
    "#この研究機関の例では，配列の要素数は136．（全ASJCコードの半数以下）\n",
    "import pandas as pd\n",
    "import numpy as np\n",
    "institute = 'Institution_Name'\n",
    "directory = '2019Jan_2013_2017/paper/'\n",
    "file_in = directory + institute + '.csv'\n",
    "asjc = pd.read_csv(file_in, skiprows=11, encoding = 'UTF-8')\n",
    "asjc.loc[:, ['Title','Authors', 'Year', 'Citations', 'Field-Weighted Citation Impact', 'All Science Journal Classification (ASJC)']].head(10)\n",
    "asjc.dtypes\n",
    "asjc['asjc_incl'] = asjc['All Science Journal Classification (ASJC)'].astype(str)\n",
    "asjc_code = asjc['asjc_incl'].map(lambda x: x.split('; '))\n",
    "ser = pd.Series(np.hstack(asjc_code.values))\n",
    "unique_asjc = ser.str.strip().unique()\n",
    "unique_asjc.sort()\n",
    "unique_asjc\n",
    "len(unique_asjc)\n",
    "#asjc_array = np.delete(unique_asjc, [0, 267], 0)\n",
    "asjc_array = np.delete(unique_asjc, 136, 0)\n",
    "asjc_array\n",
    "len(asjc_array)"
   ]
  },
  {
   "cell_type": "code",
   "execution_count": 2,
   "metadata": {},
   "outputs": [],
   "source": [
    "#元の論文リストから，ASJCごとのデータを抽出したのち，結合\n",
    "def filter_df_by_asjc(df, asjc_code):\n",
    "    asjc_df = df.loc[df['asjc_incl'].map(lambda x: asjc_code in x)].copy()\n",
    "    asjc_df['asjc_incl'] = asjc_code\n",
    "    return asjc_df\n",
    "\n",
    "asjc_df_list = [filter_df_by_asjc(asjc, asjc_code) for asjc_code in asjc_array]\n",
    "asjc_vert = pd.concat(asjc_df_list)\n",
    "asjc_vert.reset_index(inplace=True)\n",
    "new = asjc_vert['asjc_incl'].str.split('-', n = 1, expand = True)\n",
    "asjc_vert['Code_tmp'] = new[0]\n",
    "asjc_vert['Description'] = new[1]\n",
    "asjc_vert.drop(columns = ['asjc_incl'], inplace = True)"
   ]
  },
  {
   "cell_type": "code",
   "execution_count": 3,
   "metadata": {},
   "outputs": [],
   "source": [
    "#QSでの分類の定義（ASJCとの対応）が書かれたデータフレームとマージ\n",
    "#ASJCについては，そのコードでクロス集計し，多い順にソート．カウント数の減り具合から，研究分野の多様性を判断\n",
    "#QSの分類については，異なったASJCが同じSubject に分類されていることもあるので，ドロップした後でクロス集計．\n",
    "#分野ごとの散布図を想定しているので，多い順でのソートはなし．\n",
    "file_out_asjc = directory + institute + '_asjc.csv'\n",
    "file_out_qs = directory + institute + '_qs.csv'\n",
    "#  definition of QS Cllasification\n",
    "qs = pd.read_csv('ASJC_Subject.csv', encoding = 'UTF-8')\n",
    "qs.columns = ['ASJC_0', 'Area_QS', 'Subject_QS', 'Num Rec', 'ASJC_1', 'Code', 'Class Name']\n",
    "qs\n",
    "qs.index\n",
    "#qs.columns\n",
    "#qs.dtypes\n",
    "# apply the QS Classification to the list\n",
    "asjc_vert['Code'] = asjc_vert['Code_tmp'].astype(int)\n",
    "asjc_qs = pd.merge(asjc_vert, qs, on='Code', how='left')\n",
    "asjc_qs['Institution'] = institute\n",
    "#\n",
    "diversity_asjc = asjc_qs.groupby(['Institution', 'Code', 'Description']).agg({'Citations': 'describe', 'Field-Weighted Citation Impact':'mean'})\n",
    "diversity_asjc.sort_values([('Citations', 'count')], ascending = False, inplace = True)\n",
    "diversity_asjc.reset_index(inplace=True)\n",
    "diversity_asjc.columns = ['Institution', 'Code', 'Description', 'Count', 'Citations_mean', 'Citations_std', 'Citations_min', 'Citations_25%', 'Citations_50%', 'Citations_75%', 'Citations_max', 'FWCI_mean']\n",
    "##diversity_asjc.loc[:,['Institution', 'Code', 'Description', 'Count', 'Citations_mean', 'FWCI_mean']]\n",
    "diversity_asjc.round(2).to_csv(file_out_asjc, mode = 'a', header = True, columns = ['Institution', 'Code', 'Description','Count', 'Citations_mean', 'FWCI_mean'])\n",
    "#\n",
    "asjc_qs.duplicated(subset = ['DOI', 'Subject_QS'])\n",
    "asjc_qs.drop_duplicates(subset = ['DOI', 'Subject_QS'])\n",
    "diversity_qs = asjc_qs.groupby(['Institution', 'Area_QS', 'Subject_QS']).agg({'Citations':'describe', 'Field-Weighted Citation Impact':'mean'})\n",
    "diversity_qs.columns = ['Count', 'Citation_mean', 'Citation_std', 'Citation_min', 'Citation_25%', 'Citation_50%', 'Citation_75%', 'Citation_max', 'FWCI_mean']\n",
    "diversity_qs\n",
    "diversity_qs.round(2).to_csv(file_out_qs, mode = 'a', header = True, columns = ['Count', 'Citation_mean', 'FWCI_mean'])"
   ]
  },
  {
   "cell_type": "code",
   "execution_count": null,
   "metadata": {},
   "outputs": [],
   "source": []
  }
 ],
 "metadata": {
  "kernelspec": {
   "display_name": "Python 3",
   "language": "python",
   "name": "python3"
  },
  "language_info": {
   "codemirror_mode": {
    "name": "ipython",
    "version": 3
   },
   "file_extension": ".py",
   "mimetype": "text/x-python",
   "name": "python",
   "nbconvert_exporter": "python",
   "pygments_lexer": "ipython3",
   "version": "3.6.0"
  }
 },
 "nbformat": 4,
 "nbformat_minor": 2
}
